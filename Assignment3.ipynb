{
 "cells": [
  {
   "cell_type": "code",
   "execution_count": 27,
   "id": "b465087f",
   "metadata": {},
   "outputs": [],
   "source": [
    "import numpy as np\n",
    "from sklearn.linear_model import LinearRegression\n",
    "from sklearn.metrics import mean_squared_error, r2_score"
   ]
  },
  {
   "cell_type": "code",
   "execution_count": 31,
   "id": "5cf9038c",
   "metadata": {},
   "outputs": [
    {
     "data": {
      "text/plain": [
       "(4.5, 0.9843478260869565)"
      ]
     },
     "execution_count": 31,
     "metadata": {},
     "output_type": "execute_result"
    }
   ],
   "source": [
    "model=LinearRegression()\n",
    "X_experience = np . array ([1 , 2 , 3 , 4 , 5 , 6 , 7 , 8]) . reshape ( -1 , 1)\n",
    "Y_salary = np . array ([45 , 50 , 60 , 65 , 75 , 80 , 90 , 95])\n",
    "m=7\n",
    "c=40\n",
    "y1=m*X_experience+c\n",
    "r1 = r2_score(Y_salary, y1)\n",
    "mse_manual=mean_squared_error(Y_salary,y1)\n",
    "mse_manual,r1"
   ]
  },
  {
   "cell_type": "code",
   "execution_count": 32,
   "id": "abff5fb7",
   "metadata": {},
   "outputs": [
    {
     "name": "stdout",
     "output_type": "stream",
     "text": [
      "Coefficient [7.38095238]\n",
      "Intercept 36.78571428571428\n"
     ]
    },
    {
     "data": {
      "text/plain": [
       "(1.4880952380952395, 0.994824016563147)"
      ]
     },
     "execution_count": 32,
     "metadata": {},
     "output_type": "execute_result"
    }
   ],
   "source": [
    "model.fit(X_experience, Y_salary)\n",
    "y2=model.predict(X_experience)\n",
    "mse_skl = mean_squared_error(Y_salary,y2 )\n",
    "r2 = r2_score(Y_salary, y2)\n",
    "print(\"Coefficient\", model.coef_)\n",
    "print(\"Intercept\",model.intercept_)\n",
    "mse_skl,r2"
   ]
  },
  {
   "cell_type": "code",
   "execution_count": 34,
   "id": "b3589c78",
   "metadata": {},
   "outputs": [
    {
     "data": {
      "text/plain": [
       "array([ 36.78571429, 405.83333333, 413.21428571])"
      ]
     },
     "execution_count": 34,
     "metadata": {},
     "output_type": "execute_result"
    }
   ],
   "source": [
    "model.predict([[0],[50],[51]])"
   ]
  },
  {
   "cell_type": "code",
   "execution_count": null,
   "id": "12455659",
   "metadata": {},
   "outputs": [],
   "source": [
    "#Coefficient(m)--7.4--By each additional year of experience, model predicts that salary will increase by m\n",
    "#Intercept(c)--36.7--When Experience is zero, the starting salary is c\n",
    "#Positive Linear Relationship\n",
    "\n",
    "#MSE--1.48-- tells that the less value, the closer predicted values are to actual value\n",
    "#R^2--0.99-- tells proportion of variance in salary by experience"
   ]
  }
 ],
 "metadata": {
  "kernelspec": {
   "display_name": "horizons25",
   "language": "python",
   "name": "python3"
  },
  "language_info": {
   "codemirror_mode": {
    "name": "ipython",
    "version": 3
   },
   "file_extension": ".py",
   "mimetype": "text/x-python",
   "name": "python",
   "nbconvert_exporter": "python",
   "pygments_lexer": "ipython3",
   "version": "3.13.2"
  }
 },
 "nbformat": 4,
 "nbformat_minor": 5
}
