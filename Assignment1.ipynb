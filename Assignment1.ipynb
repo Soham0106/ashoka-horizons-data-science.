{
 "cells": [
  {
   "cell_type": "code",
   "execution_count": 5,
   "id": "24a14d37",
   "metadata": {},
   "outputs": [],
   "source": [
    "scores=[55,92,78,60,85,78,90,66,73,88]"
   ]
  },
  {
   "cell_type": "code",
   "execution_count": 6,
   "id": "868622d4",
   "metadata": {},
   "outputs": [
    {
     "data": {
      "text/plain": [
       "76.5"
      ]
     },
     "execution_count": 6,
     "metadata": {},
     "output_type": "execute_result"
    }
   ],
   "source": [
    "mean=sum(scores)/len(scores)\n",
    "mean"
   ]
  },
  {
   "cell_type": "code",
   "execution_count": null,
   "id": "dfcef18d",
   "metadata": {},
   "outputs": [
    {
     "name": "stdout",
     "output_type": "stream",
     "text": [
      "4.0\n"
     ]
    },
    {
     "data": {
      "text/plain": [
       "78.0"
      ]
     },
     "execution_count": 21,
     "metadata": {},
     "output_type": "execute_result"
    }
   ],
   "source": [
    "sorted_scores=sorted(scores)\n",
    "if(len(scores)%2==0):\n",
    "    median=(sorted_scores[int(len(scores)/2-1)]+sorted_scores[int(len(scores)/2)])/2\n",
    "else:\n",
    "    median=sorted_scores[len(scores)//2]\n",
    "median\n"
   ]
  },
  {
   "cell_type": "code",
   "execution_count": 14,
   "id": "1c7f0090",
   "metadata": {},
   "outputs": [
    {
     "name": "stdout",
     "output_type": "stream",
     "text": [
      "78\n"
     ]
    }
   ],
   "source": [
    "mode_dict={}\n",
    "count=0\n",
    "for i in sorted_scores:\n",
    "    mode_dict[i]=sorted_scores.count(i)\n",
    "    if(sorted_scores.count(i)>count):\n",
    "        count=sorted_scores.count(i)\n",
    "for key, value in mode_dict.items():\n",
    "    if value==count:\n",
    "        print(key)"
   ]
  },
  {
   "cell_type": "code",
   "execution_count": 22,
   "id": "af53669c",
   "metadata": {},
   "outputs": [
    {
     "data": {
      "text/plain": [
       "37"
      ]
     },
     "execution_count": 22,
     "metadata": {},
     "output_type": "execute_result"
    }
   ],
   "source": [
    "range=sorted_scores[len(sorted_scores)-1]-sorted_scores[0]\n",
    "range"
   ]
  },
  {
   "cell_type": "code",
   "execution_count": 23,
   "id": "bfed0e8b",
   "metadata": {},
   "outputs": [
    {
     "data": {
      "text/plain": [
       "148.85"
      ]
     },
     "execution_count": 23,
     "metadata": {},
     "output_type": "execute_result"
    }
   ],
   "source": [
    "a=0\n",
    "for i in sorted_scores:\n",
    "    a=a+(i-mean)**2\n",
    "variance=a/len(sorted_scores)\n",
    "variance"
   ]
  },
  {
   "cell_type": "code",
   "execution_count": 24,
   "id": "4e48b97a",
   "metadata": {},
   "outputs": [
    {
     "data": {
      "text/plain": [
       "12.200409829181968"
      ]
     },
     "execution_count": 24,
     "metadata": {},
     "output_type": "execute_result"
    }
   ],
   "source": [
    "std=variance**0.5\n",
    "std"
   ]
  }
 ],
 "metadata": {
  "kernelspec": {
   "display_name": "horizons25",
   "language": "python",
   "name": "python3"
  },
  "language_info": {
   "codemirror_mode": {
    "name": "ipython",
    "version": 3
   },
   "file_extension": ".py",
   "mimetype": "text/x-python",
   "name": "python",
   "nbconvert_exporter": "python",
   "pygments_lexer": "ipython3",
   "version": "3.13.2"
  }
 },
 "nbformat": 4,
 "nbformat_minor": 5
}
