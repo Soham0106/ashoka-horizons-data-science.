{
 "cells": [
  {
   "cell_type": "code",
   "execution_count": 4,
   "id": "60760683",
   "metadata": {},
   "outputs": [],
   "source": [
    "import numpy as np\n",
    "from sklearn.datasets import make_blobs\n",
    "from sklearn.cluster import KMeans\n",
    "X_cluster_data = np . array ([[2 , 10] , [2 , 5] , [8 , 4] , [5 , 8] , [7 , 5] , [6 , 4] , [1 , 2] , [4 , 9] ])"
   ]
  },
  {
   "cell_type": "code",
   "execution_count": null,
   "id": "6ce42aa2",
   "metadata": {},
   "outputs": [
    {
     "name": "stdout",
     "output_type": "stream",
     "text": [
      "Point 0 [ 2 10] -> Cluster 1 (d1=0.00, d2=5.00)\n",
      "Point 1 [2 5] -> Cluster 2 (d1=5.00, d2=0.00)\n",
      "Point 2 [8 4] -> Cluster 2 (d1=8.49, d2=6.08)\n",
      "Point 3 [5 8] -> Cluster 1 (d1=3.61, d2=4.24)\n",
      "Point 4 [7 5] -> Cluster 2 (d1=7.07, d2=5.00)\n",
      "Point 5 [6 4] -> Cluster 2 (d1=7.21, d2=4.12)\n",
      "Point 6 [1 2] -> Cluster 2 (d1=8.06, d2=3.16)\n",
      "Point 7 [4 9] -> Cluster 1 (d1=2.24, d2=4.47)\n"
     ]
    }
   ],
   "source": [
    "from scipy.spatial.distance import euclidean\n",
    "\n",
    "C1 = np.array([2, 10])\n",
    "C2 = np.array([2, 5])\n",
    "\n",
    "assignments = []\n",
    "for idx, point in enumerate(X_cluster_data):\n",
    "    d1 = euclidean(point, C1)\n",
    "    d2 = euclidean(point, C2)\n",
    "    cluster = 1 if d1 < d2 else 2\n",
    "    assignments.append(cluster)\n",
    "    print(f\"Point {idx} {point} -> Cluster {cluster} (d1={d1:.2f}, d2={d2:.2f})\")\n",
    "    print(np.mean([[2,10], [5,8], [4,9]], axis=0))\n",
    "    print(np.mean([[2,5], [8,4], [7,5], [6,4], [1,2]], axis=0))\n",
    "    "
   ]
  },
  {
   "cell_type": "code",
   "execution_count": 12,
   "id": "da652d77",
   "metadata": {},
   "outputs": [
    {
     "name": "stdout",
     "output_type": "stream",
     "text": [
      "Final centroids (Scikit-learn):\n",
      " [[7.         4.33333333]\n",
      " [3.66666667 9.        ]\n",
      " [1.5        3.5       ]]\n",
      "Cluster labels:\n",
      " [1 2 0 1 0 0 2 1]\n",
      "Labels shape (8,)\n",
      "First 5 labels [1 2 0 1 0]\n"
     ]
    }
   ],
   "source": [
    "km=KMeans(n_clusters=3)\n",
    "km.fit(X_cluster_data)\n",
    "centers = km.cluster_centers_\n",
    "labels=km.labels_\n",
    "\n",
    "print(\"Final centroids (Scikit-learn):\\n\", centers)\n",
    "print(\"Cluster labels:\\n\", labels)\n",
    "print(\"Labels shape\",labels.shape)\n",
    "print(\"First 5 labels\", labels[:5])"
   ]
  },
  {
   "cell_type": "code",
   "execution_count": 13,
   "id": "a2781a67",
   "metadata": {},
   "outputs": [
    {
     "name": "stdout",
     "output_type": "stream",
     "text": [
      "Point 0 [ 2 10] -> Cluster 1 (d1=1.95, d2=6.62)\n",
      "Point 1 [2 5] -> Cluster 2 (d1=4.33, d2=2.97)\n",
      "Point 2 [8 4] -> Cluster 2 (d1=6.61, d2=3.20)\n",
      "Point 3 [5 8] -> Cluster 1 (d1=1.66, d2=4.00)\n",
      "Point 4 [7 5] -> Cluster 2 (d1=5.20, d2=2.42)\n",
      "Point 5 [6 4] -> Cluster 2 (d1=5.52, d2=1.20)\n",
      "Point 6 [1 2] -> Cluster 2 (d1=7.49, d2=4.29)\n",
      "Point 7 [4 9] -> Cluster 1 (d1=0.33, d2=5.06)\n"
     ]
    }
   ],
   "source": [
    "C1_new = np.array([3.67, 9.0])\n",
    "C2_new = np.array([4.8, 4.0])\n",
    "\n",
    "assignments_iter2 = []\n",
    "for idx, point in enumerate(X_cluster_data):\n",
    "    d1 = euclidean(point, C1_new)\n",
    "    d2 = euclidean(point, C2_new)\n",
    "    cluster = 1 if d1 < d2 else 2\n",
    "    assignments_iter2.append(cluster)\n",
    "    print(f\"Point {idx} {point} -> Cluster {cluster} (d1={d1:.2f}, d2={d2:.2f})\")"
   ]
  },
  {
   "cell_type": "code",
   "execution_count": null,
   "id": "71e7c723",
   "metadata": {},
   "outputs": [
    {
     "name": "stdout",
     "output_type": "stream",
     "text": [
      "Final centroids (Scikit-learn):\n",
      " [[7.         4.33333333]\n",
      " [3.66666667 9.        ]\n",
      " [1.5        3.5       ]]\n",
      "Cluster labels:\n",
      " [1 2 0 1 0 0 2 1]\n",
      "Labels shape (8,)\n",
      "First 5 labels [1 2 0 1 0]\n"
     ]
    }
   ],
   "source": [
    "km=KMeans(n_clusters=3)\n",
    "km.fit(X_cluster_data)\n",
    "centers = km.cluster_centers_\n",
    "labels=km.labels_\n",
    "\n",
    "print(\"Final centroids (Scikit-learn):\\n\", centers)\n",
    "print(\"Cluster labels:\\n\", labels)\n",
    "print(\"Labels shape\",labels.shape)\n",
    "print(\"First 5 labels\", labels[:5])"
   ]
  },
  {
   "cell_type": "code",
   "execution_count": 28,
   "id": "80c0cfda",
   "metadata": {},
   "outputs": [
    {
     "name": "stderr",
     "output_type": "stream",
     "text": [
      "/var/folders/vs/gb3t5vwd3hx4p60jqd98hnlw0000gn/T/ipykernel_54915/4060328962.py:4: MatplotlibDeprecationWarning: The get_cmap function was deprecated in Matplotlib 3.7 and will be removed in 3.11. Use ``matplotlib.colormaps[name]`` or ``matplotlib.colormaps.get_cmap()`` or ``pyplot.get_cmap()`` instead.\n",
      "  cmap = cm.get_cmap('tab10', num_clusters)\n"
     ]
    },
    {
     "data": {
      "image/png": "[encoded data removed]",
      "text/plain": [
       "<Figure size 800x600 with 1 Axes>"
      ]
     },
     "metadata": {},
     "output_type": "display_data"
    }
   ],
   "source": [
    "import matplotlib.pyplot as plt\n",
    "import matplotlib.cm as cm\n",
    "num_clusters = len(np.unique(labels))\n",
    "cmap = cm.get_cmap('tab10', num_clusters)\n",
    "\n",
    "plt.figure(figsize=(8, 6))\n",
    "for i in range(len(X_cluster_data)):\n",
    "    plt.scatter(X_cluster_data[i][0], X_cluster_data[i][1],\n",
    "                color=cmap(labels[i]), s=100, edgecolor='black')\n",
    "\n",
    "plt.scatter(centers[:, 0], centers[:, 1],\n",
    "            marker='X', s=200, color='green', edgecolor='black', label='Centroids')\n",
    "\n",
    "plt.title('KMeans Clustering Visualization')\n",
    "plt.xlabel('X-axis')\n",
    "plt.ylabel('Y-axis')\n",
    "plt.legend()\n",
    "plt.grid(True)\n",
    "plt.show()"
   ]
  }
 ],
 "metadata": {
  "kernelspec": {
   "display_name": "horizons25",
   "language": "python",
   "name": "python3"
  },
  "language_info": {
   "codemirror_mode": {
    "name": "ipython",
    "version": 3
   },
   "file_extension": ".py",
   "mimetype": "text/x-python",
   "name": "python",
   "nbconvert_exporter": "python",
   "pygments_lexer": "ipython3",
   "version": "3.13.2"
  }
 },
 "nbformat": 4,
 "nbformat_minor": 5
}
